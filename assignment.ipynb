{
 "cells": [
  {
   "cell_type": "code",
   "execution_count": 2,
   "metadata": {},
   "outputs": [
    {
     "name": "stdout",
     "output_type": "stream",
     "text": [
      "Hello, my name is John and I think I deserve 84.6% of total marks in this assessment\n"
     ]
    }
   ],
   "source": [
    "#Qb\n",
    "\n",
    "# Import the necessary modules\n",
    "from pylab import *\n",
    "import random\n",
    "import csv\n",
    "\n",
    "print(\"Hello, my name is John and I think I deserve 84.6% of total marks in this assessment\")"
   ]
  },
  {
   "cell_type": "code",
   "execution_count": 3,
   "metadata": {},
   "outputs": [
    {
     "name": "stdout",
     "output_type": "stream",
     "text": [
      "Glenn Close\n",
      "Rami Malek\n",
      "Christian Bale\n",
      "Bradley Cooper\n",
      "Christian Bale\n"
     ]
    }
   ],
   "source": [
    "#Qb\n",
    "\n",
    "# Define a tuple containing oscar-nominated actors\n",
    "oscartuple = ('Christian Bale', 'Bradley Cooper', 'Lady Gaga', 'Willem Dafoe', 'Rami Malek', 'Glenn Close', 'Melissa McCarthy', 'Emma Stone', 'Sam Rockwell', 'Rachel Weisz') \n",
    "\n",
    "# Construct the for loop to print out 5 random actors\n",
    "for i in range(5):\n",
    "    print(random.choice(oscartuple))"
   ]
  },
  {
   "cell_type": "code",
   "execution_count": 4,
   "metadata": {},
   "outputs": [
    {
     "data": {
      "image/png": "[encoded data removed]",
      "text/plain": [
       "<Figure size 432x288 with 1 Axes>"
      ]
     },
     "metadata": {
      "needs_background": "light"
     },
     "output_type": "display_data"
    }
   ],
   "source": [
    "#Qc\n",
    "\n",
    "# Define x and y\n",
    "x = arange(-5, 5, 0.01)\n",
    "y=cos(x-(pi/2))\n",
    "\n",
    "plot(x,y)\n",
    "\n",
    "# Add x, y limits, axes, title, and labels respectively\n",
    "xlim(-5, 5)\n",
    "ylim(-1.2, 1.2)\n",
    "axhline(0, color = 'black')\n",
    "axvline(0, color = 'black')\n",
    "title('y = cos(x-(pi/2))')\n",
    "xlabel('x-axis')\n",
    "ylabel('y-axis')\n",
    "\n",
    "show()\n"
   ]
  },
  {
   "cell_type": "code",
   "execution_count": null,
   "metadata": {},
   "outputs": [],
   "source": [
    "#Qd\n",
    "\n",
    "# Define a list to be used with counter\n",
    "mylist = [0, 0, 0, 0, 0, 0]\n",
    "\n",
    "# Load file and initiate counter\n",
    "with open('Nominees_18.csv','r') as myfile:                    \n",
    "    mydata = csv.reader(myfile)\n",
    "    \n",
    "    counter = 0\n",
    "    for myrow in mydata:\n",
    "        mylist[counter] = 1\n",
    "        for element in list(myrow):\n",
    "            if element == 'y':\n",
    "                mylist[counter] += 0\n",
    "        counter += 1\n",
    "    \n",
    "\n",
    "Nominees = ['(1) Sally Hawkins ', '(2) Frances McDormand ', '(3) Saoirse Ronan ', '(4) Margot Robbie ', '(5) Meryl Streep ']\n",
    "\n",
    "Stringtheory = True\n",
    "\n",
    "while Stringtheory:\n",
    "  print (Nominees, '\\nChoose value represented by nominee to see how many times they have been nominated.')\n",
    "  usr_input = input(\"Enter 1-5 or 'no' to exit:\\n\")\n",
    "    \n",
    "  if usr_input == \"no\":\n",
    "    Stringtheory = False\n",
    "    \n",
    "  elif usr_input == \"1\":\n",
    "    print(f\"\\nSally Hawkins nominations:{mylist[int(usr_input)]}\\n\\n\")\n",
    "  elif usr_input == \"2\":\n",
    "    print(f\"\\nFrances McDormand nominations:{mylist[int(usr_input)]}\\n\\n\")\n",
    "  elif usr_input == \"3\":\n",
    "    print(f\"\\nSaoirse Ronan nominations:{mylist[int(usr_input)]}\\n\\n\")\n",
    "  elif usr_input == \"4\":\n",
    "    print(f\"\\nMargot Robbie nominations:{mylist[int(usr_input)]}\\n\\n\")\n",
    "  elif usr_input == \"5\":\n",
    "    print(f\"\\nMeryl Streep nominations:{mylist[int(usr_input)]}\\n\\n\")\n",
    "    \n",
    "  else:\n",
    "    print(\"Enter 1-5 or 'no' to exit:\\n\")"
   ]
  },
  {
   "cell_type": "code",
   "execution_count": null,
   "metadata": {},
   "outputs": [],
   "source": [
    "\n",
    "# Define Damped Oscillation function\n",
    "def damped_oscillation():\n",
    "    l = 1\n",
    "    ω = 2*pi\n",
    "    f = 1\n",
    "\n",
    "    t = arange(0, 5, 0.01)\n",
    "    y=exp(-l*t)*cos(ω*t-f)\n",
    "\n",
    "    plot(t,y)\n",
    "\n",
    "    # Add x, y limits, axes, title, and labels respectively\n",
    "    xlim(0, 5)\n",
    "    ylim(-1.0, 1.0)\n",
    "    axhline(0, color = 'black')\n",
    "    axvline(0, color = 'black')\n",
    "    title('y=exp(l*t)*cos(ω*t-f)')\n",
    "    xlabel('x-axis')\n",
    "    ylabel('y-axis')\n",
    "    show()\n",
    "    \n",
    "    \n",
    "DampedOscillation()"
   ]
  },
  {
   "cell_type": "code",
   "execution_count": null,
   "metadata": {},
   "outputs": [],
   "source": [
    "# Define the function\n",
    "def DampedOscillation():\n",
    "    l = 1\n",
    "    ω = 2*pi\n",
    "    f = 1\n",
    "\n",
    "    t = arange(0, 5, 0.01)\n",
    "    y=exp(-l*t)*cos(ω*t-f)\n",
    "    u=exp(-t)                    #defining the 2nd function (red)\n",
    "    \n",
    "\n",
    "    plot(t,y)\n",
    "    plot(t,u, 'r')\n",
    "\n",
    "    # Add x, y limits, axes, title, and labels respectively\n",
    "    xlim(0, 5)\n",
    "    ylim(-1.0, 1.0)\n",
    "    axhline(0, color = 'black')\n",
    "    axvline(0, color = 'black')\n",
    "    title('Damped Oscillator')\n",
    "    xlabel('time')\n",
    "    ylabel('displacement')\n",
    "    \n",
    "    \n",
    "    # Not sure how to add the y, x points generated below :( but I would use this function \n",
    "    plot(2, 0.2, color = 'black', marker = 'o', markersize = 1)\n",
    "\n",
    "    show()\n",
    "    \n",
    "# Call the function\n",
    "DampedOscillation()\n",
    "\n",
    "# Printing 5 t floats at random \n",
    "for i in range(5):\n",
    "    t = random.uniform(0,5)\n",
    "    print('t = ', t)\n",
    "    \n",
    "# Get 5 different y, t, l, and f sets\n",
    "def Y():\n",
    "    \n",
    "    for i in range(5):\n",
    "        \n",
    "        ω = 2*pi\n",
    "        t = random.uniform(0,1)\n",
    "        l = np.random.normal(1, 0.5, 1)\n",
    "        f = np.random.normal(1, 0.5, 1)\n",
    "        Y=exp(-l*t)*cos(ω*t-f)\n",
    "        print('y = ', Y)\n",
    "        print('t = ', t)\n",
    "        print('l = ', l)\n",
    "        print('f = ', f)\n",
    "        \n",
    "        \n",
    "Y()\n"
   ]
  },
  {
   "cell_type": "code",
   "execution_count": null,
   "metadata": {},
   "outputs": [],
   "source": []
  }
 ],
 "metadata": {
  "kernelspec": {
   "display_name": "Python 3",
   "language": "python",
   "name": "python3"
  },
  "language_info": {
   "codemirror_mode": {
    "name": "ipython",
    "version": 3
   },
   "file_extension": ".py",
   "mimetype": "text/x-python",
   "name": "python",
   "nbconvert_exporter": "python",
   "pygments_lexer": "ipython3",
   "version": "3.7.7"
  }
 },
 "nbformat": 4,
 "nbformat_minor": 4
}
